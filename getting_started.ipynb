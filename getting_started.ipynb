{
  "nbformat": 4,
  "nbformat_minor": 0,
  "metadata": {
    "colab": {
      "provenance": [],
      "authorship_tag": "ABX9TyPJ2yhpvybJmJZLDNGHR4TU",
      "include_colab_link": true
    },
    "kernelspec": {
      "name": "python3",
      "display_name": "Python 3"
    },
    "language_info": {
      "name": "python"
    }
  },
  "cells": [
    {
      "cell_type": "markdown",
      "metadata": {
        "id": "view-in-github",
        "colab_type": "text"
      },
      "source": [
        "<a href=\"https://colab.research.google.com/github/xldrkp/Data-Science-Notebooks/blob/main/getting_started.ipynb\" target=\"_parent\"><img src=\"https://colab.research.google.com/assets/colab-badge.svg\" alt=\"Open In Colab\"/></a>"
      ]
    },
    {
      "cell_type": "code",
      "execution_count": 5,
      "metadata": {
        "colab": {
          "base_uri": "https://localhost:8080/"
        },
        "id": "MQ7410yjONcX",
        "outputId": "2a05288c-f284-4fc7-b54c-55e5f78a3e06"
      },
      "outputs": [
        {
          "output_type": "stream",
          "name": "stdout",
          "text": [
            "Running in Colab\n",
            "Cloning into 'Data-Science-Notebooks'...\n",
            "remote: Enumerating objects: 33, done.\u001b[K\n",
            "remote: Counting objects: 100% (33/33), done.\u001b[K\n",
            "remote: Compressing objects: 100% (29/29), done.\u001b[K\n",
            "remote: Total 33 (delta 13), reused 13 (delta 3), pack-reused 0\u001b[K\n",
            "Receiving objects: 100% (33/33), 237.68 KiB | 5.06 MiB/s, done.\n",
            "Resolving deltas: 100% (13/13), done.\n"
          ]
        }
      ],
      "source": [
        "import os\n",
        "\n",
        "if os.getenv(\"COLAB_RELEASE_TAG\"):\n",
        "   print(\"Running in Colab\")\n",
        "   !git clone https://github.com/xldrkp/Data-Science-Notebooks.git"
      ]
    },
    {
      "cell_type": "code",
      "source": [
        "! npx degit xldrkp/Data-Science-Notebooks -f"
      ],
      "metadata": {
        "colab": {
          "base_uri": "https://localhost:8080/"
        },
        "id": "_h6DO95KRLpo",
        "outputId": "89d7c3b8-54a2-4e24-f989-e686a0dcc23d"
      },
      "execution_count": 8,
      "outputs": [
        {
          "output_type": "stream",
          "name": "stdout",
          "text": [
            "\u001b[?25l[..................] / rollbackFailedOptional: verb npm-session f840b08b293c1c1\u001b[0m\u001b[K\r[#######...........] \\ extract:degit: verb lock using /root/.npm/_locks/staging\u001b[0m\u001b[K\r[############......] - finalize:degit: sill doSerial finalize 8\u001b[0m\u001b[K\r\r\u001b[K\u001b[?25hnpx: installed 1 in 0.986s\n",
            "\u001b[36m> destination directory is not empty. Using --force, continuing\u001b[39m\n",
            "\u001b[36m> cloned \u001b[1mxldrkp/Data-Science-Notebooks\u001b[22m#\u001b[1mHEAD\u001b[22m\u001b[39m\n"
          ]
        }
      ]
    }
  ]
}