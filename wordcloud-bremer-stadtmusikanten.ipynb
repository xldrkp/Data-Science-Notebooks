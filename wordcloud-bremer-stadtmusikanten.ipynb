{
  "cells": [
    {
      "cell_type": "markdown",
      "metadata": {
        "colab_type": "text",
        "id": "view-in-github"
      },
      "source": [
        "<a href=\"https://colab.research.google.com/github/xldrkp/Data-Science-Notebooks/blob/main/textanalysis/analyse-und-visualisierung.ipynb\" target=\"_parent\"><img src=\"https://colab.research.google.com/assets/colab-badge.svg\" alt=\"Open In Colab\"/></a>"
      ]
    },
    {
      "cell_type": "markdown",
      "id": "ea0f2139-55f9-4510-9900-296812bce1b0",
      "metadata": {
        "id": "ea0f2139-55f9-4510-9900-296812bce1b0"
      },
      "source": [
        "# Wortartanalyse und -visualisierung\n",
        "\n",
        "Das folgende Beispiel zeigt, wie Sie mit Python einen zuvor aufbereiteten Text auf bestimmte Wortarten und Vorkommnisse analysieren und visualisieren können.\n"
      ]
    },
    {
      "cell_type": "code",
      "execution_count": null,
      "metadata": {},
      "outputs": [],
      "source": [
        "import os\n",
        "\n",
        "if os.getenv(\"COLAB_RELEASE_TAG\"):\n",
        "   print(\"Running in Colab\")\n",
        "   !npx degit xldrkp/Data-Science-Notebooks -f"
      ]
    },
    {
      "cell_type": "code",
      "execution_count": null,
      "id": "cL9F3mdcMb-3",
      "metadata": {
        "id": "cL9F3mdcMb-3"
      },
      "outputs": [],
      "source": [
        "!python -m spacy download de_core_news_lg"
      ]
    },
    {
      "cell_type": "code",
      "execution_count": null,
      "id": "4a4c9f2c-911f-4fd9-b3b1-ba629884b049",
      "metadata": {
        "id": "4a4c9f2c-911f-4fd9-b3b1-ba629884b049"
      },
      "outputs": [],
      "source": [
        "# Python-Paket zur Textanalyse, https://spacy.io/\n",
        "import spacy\n",
        "# Systembibliothek für die Kommunikation mit dem Betriebssystem\n",
        "import os\n",
        "# Paket zur Arbeit mit Arrays\n",
        "import numpy as np\n",
        "# Paket zur Bildverarbeitung und -generierung\n",
        "from PIL import Image\n",
        "# Paket zur Generierung von Wordclouds, https://amueller.github.io/word_cloud/index.html#\n",
        "from wordcloud import WordCloud, STOPWORDS, ImageColorGenerator\n",
        "\n",
        "# Einfaches Paket für Visualiserungen, hier für die Darstellung von generierten Bildern verwendet.\n",
        "import matplotlib.pyplot as plt\n",
        "%matplotlib inline"
      ]
    },
    {
      "cell_type": "code",
      "execution_count": null,
      "id": "12030485-fc24-48a1-973e-d2bee17dcbc0",
      "metadata": {
        "id": "12030485-fc24-48a1-973e-d2bee17dcbc0"
      },
      "outputs": [],
      "source": [
        "read_folder = \"data\"\n",
        "file_name = \"die-bremer-stadtmusikanten.md\"\n",
        "text = \"\"\n",
        "\n",
        "# Vorbereitete Textdatei öffnen und einlesen\n",
        "with open(os.path.join(read_folder, file_name)) as file:\n",
        "    text = file.read()"
      ]
    },
    {
      "cell_type": "code",
      "execution_count": null,
      "id": "3e460c66-8256-4a28-a09c-157f90a95af8",
      "metadata": {
        "id": "3e460c66-8256-4a28-a09c-157f90a95af8"
      },
      "outputs": [],
      "source": [
        "# Optionales Ausgeben des eingelesenen Textes\n",
        "print(text)"
      ]
    },
    {
      "cell_type": "markdown",
      "id": "62cc1796-43c4-44c1-8ddb-375815a6dccc",
      "metadata": {
        "id": "62cc1796-43c4-44c1-8ddb-375815a6dccc"
      },
      "source": [
        "## Alle Verben herausfiltern und auf die Grundform zurückführen"
      ]
    },
    {
      "cell_type": "code",
      "execution_count": null,
      "id": "ebdf798f-a467-400e-be5d-c2421704dd35",
      "metadata": {
        "id": "ebdf798f-a467-400e-be5d-c2421704dd35"
      },
      "outputs": [],
      "source": [
        "# Laden eines Modells mit Spacy, das schon auf die Sprache und ihre Eigenschaft vortrainiert ist.\n",
        "# https://spacy.io/models\n",
        "nlp = spacy.load(\"de_core_news_lg\")\n",
        "\n",
        "# Prozessieren des Textes\n",
        "doc = nlp(text)\n",
        "\n",
        "# Ausgabe der Verben mit einer for-Schleife\n",
        "#for token in doc:\n",
        "#    if token.pos_ == \"VERB\":\n",
        "#        print(token.lemma_)\n",
        "\n",
        "# Besser und schneller mit einer list comprehension\n",
        "verbs = [token.lemma_ for token in doc if token.pos_ == \"VERB\"]\n",
        "\n",
        "print(verbs)"
      ]
    },
    {
      "cell_type": "markdown",
      "id": "ee9f7c66-1365-478b-a266-637a3246de3e",
      "metadata": {
        "id": "ee9f7c66-1365-478b-a266-637a3246de3e"
      },
      "source": [
        "## Daten visualisieren\n",
        "\n",
        "Im Folgenden werden beispielhaft die Verben des Textes nach Häufigkeit größer oder kleiner dargestellt."
      ]
    },
    {
      "cell_type": "code",
      "execution_count": null,
      "id": "daffc8cd-76ff-40eb-95cc-1e8eccbed49d",
      "metadata": {
        "id": "daffc8cd-76ff-40eb-95cc-1e8eccbed49d"
      },
      "outputs": [],
      "source": [
        "# Für WordCloud müssen die Worte mit Leerzeichen getrennt vorliegen.\n",
        "verbs_concat = \" \".join(v for v in verbs)"
      ]
    },
    {
      "cell_type": "code",
      "execution_count": null,
      "id": "143efc16-f5b8-402b-a548-f32752360f22",
      "metadata": {
        "id": "143efc16-f5b8-402b-a548-f32752360f22"
      },
      "outputs": [],
      "source": [
        "# Optionales Ausgeben des Strings\n",
        "print(verbs_concat)"
      ]
    },
    {
      "cell_type": "markdown",
      "id": "83605440-3b80-4940-b9eb-4b41b61ca0f4",
      "metadata": {
        "id": "83605440-3b80-4940-b9eb-4b41b61ca0f4"
      },
      "source": [
        "Nun wird die WordCloud mit einer sinnvollen Auswahl von Parametern generiert und durch matplotlib dargestellt."
      ]
    },
    {
      "cell_type": "code",
      "execution_count": null,
      "id": "37e9935e-9836-465d-a6f6-8d830f8a5af2",
      "metadata": {
        "id": "37e9935e-9836-465d-a6f6-8d830f8a5af2"
      },
      "outputs": [],
      "source": [
        "wordcloud = WordCloud(\n",
        "    max_font_size=50,\n",
        "    background_color=\"white\",\n",
        "    max_words=10,\n",
        "    relative_scaling=.5,\n",
        "    include_numbers=True,\n",
        "    scale=1\n",
        ").generate(verbs_concat)\n",
        "\n",
        "# Display the generated image:\n",
        "plt.imshow(wordcloud, interpolation='bilinear')\n",
        "plt.axis(\"off\")\n",
        "plt.show()"
      ]
    },
    {
      "cell_type": "markdown",
      "id": "26fff15a-4288-43f5-8cb8-5a18aa40e1f9",
      "metadata": {
        "id": "26fff15a-4288-43f5-8cb8-5a18aa40e1f9"
      },
      "source": [
        "## Maskieren\n",
        "\n",
        "Der Reiz von WordCloud liegt darin, eine WordCloud in ein beliebiges Bild hineinzurendern. Dafür müssen Bereiche, die nicht gefüllt werden sollen, RGB-weiß (255,255,255) sein.\n",
        "\n",
        "Vgl. dazu auch die Tutorials, auf denen dieses Beispiel basiert:\n",
        "\n",
        "- https://www.datacamp.com/tutorial/wordcloud-python\n",
        "- https://www.python-lernen.de/wordcloud-erstellen-python.htm"
      ]
    },
    {
      "cell_type": "code",
      "execution_count": null,
      "id": "988de82b-7329-4203-bade-8377ddab7e7f",
      "metadata": {
        "id": "988de82b-7329-4203-bade-8377ddab7e7f"
      },
      "outputs": [],
      "source": [
        "mask = np.array(Image.open(\"img/bremer-stadtmusikanten.png\"))\n",
        "\n",
        "wordcloud = WordCloud(\n",
        "    max_font_size=50,\n",
        "    background_color=\"white\",\n",
        "    #max_words=100,\n",
        "    relative_scaling=.2,\n",
        "    scale=1,\n",
        "    mask = mask,\n",
        "    contour_width=1,\n",
        "    contour_color='grey'\n",
        ").generate(verbs_concat)\n",
        "\n",
        "# Bild anzeigen\n",
        "plt.figure(figsize=[20,10])\n",
        "plt.imshow(wordcloud, interpolation='bilinear')\n",
        "plt.axis(\"off\")\n",
        "plt.show()"
      ]
    },
    {
      "cell_type": "code",
      "execution_count": null,
      "id": "92de383f-f567-4253-9e68-bd703daac8ec",
      "metadata": {
        "id": "92de383f-f567-4253-9e68-bd703daac8ec"
      },
      "outputs": [],
      "source": [
        "# Speichern des Bildes\n",
        "wordcloud.to_file(\"output/visualisierung.png\")"
      ]
    },
    {
      "cell_type": "markdown",
      "id": "a2a2e2ab-88d6-4f27-85e2-1237217eb436",
      "metadata": {
        "id": "a2a2e2ab-88d6-4f27-85e2-1237217eb436"
      },
      "source": [
        "## Mediennachweis\n",
        "\n",
        "Das Bild der Bremerstadtmusikanten stammt von [freesvg.org](https://freesvg.org/1487612321) und steht in der Public Domain."
      ]
    }
  ],
  "metadata": {
    "colab": {
      "include_colab_link": true,
      "provenance": []
    },
    "kernelspec": {
      "display_name": "yolo-training",
      "language": "python",
      "name": "yolo-training"
    },
    "language_info": {
      "codemirror_mode": {
        "name": "ipython",
        "version": 3
      },
      "file_extension": ".py",
      "mimetype": "text/x-python",
      "name": "python",
      "nbconvert_exporter": "python",
      "pygments_lexer": "ipython3",
      "version": "3.10.4"
    }
  },
  "nbformat": 4,
  "nbformat_minor": 5
}
