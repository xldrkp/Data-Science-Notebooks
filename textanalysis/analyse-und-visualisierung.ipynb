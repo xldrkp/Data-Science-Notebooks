{
 "cells": [
  {
   "cell_type": "markdown",
   "id": "ea0f2139-55f9-4510-9900-296812bce1b0",
   "metadata": {},
   "source": [
    "# Wortartanalyse und -visualisierung\n",
    "\n",
    "Das folgende Beispiel zeigt, wie Sie mit Python einen zuvor aufbereiteten Text auf bestimmte Wortarten und Vorkommnisse analysieren und visualisieren können.\n"
   ]
  },
  {
   "cell_type": "code",
   "execution_count": 3,
   "id": "4a4c9f2c-911f-4fd9-b3b1-ba629884b049",
   "metadata": {},
   "outputs": [],
   "source": [
    "# Python-Paket zur Textanalyse, https://spacy.io/\n",
    "import spacy\n",
    "# Systembibliothek für die Kommunikation mit dem Betriebssystem\n",
    "import os\n",
    "# Paket zur Arbeit mit Arrays\n",
    "import numpy as np\n",
    "# Paket zur Bildverarbeitung und -generierung\n",
    "from PIL import Image\n",
    "# Paket zur Generierung von Wordclouds, https://amueller.github.io/word_cloud/index.html#\n",
    "from wordcloud import WordCloud, STOPWORDS, ImageColorGenerator\n",
    "\n",
    "# Einfaches Paket für Visualiserungen, hier für die Darstellung von generierten Bildern verwendet.\n",
    "import matplotlib.pyplot as plt\n",
    "%matplotlib inline"
   ]
  },
  {
   "cell_type": "code",
   "execution_count": 4,
   "id": "12030485-fc24-48a1-973e-d2bee17dcbc0",
   "metadata": {},
   "outputs": [],
   "source": [
    "read_folder = \"data\"\n",
    "file_name = \"die-bremer-stadtmusikanten.md\"\n",
    "text = \"\"\n",
    "\n",
    "# Vorbereitete Textdatei öffnen und einlesen\n",
    "with open(os.path.join(read_folder, file_name)) as file:\n",
    "    text = file.read()"
   ]
  },
  {
   "cell_type": "code",
   "execution_count": 5,
   "id": "3e460c66-8256-4a28-a09c-157f90a95af8",
   "metadata": {},
   "outputs": [
    {
     "name": "stdout",
     "output_type": "stream",
     "text": [
      "# Die Bremer Stadtmusikanten\n",
      "\n",
      "Es war einmal ein Mann, der hatte einen Esel, welcher schon lange Jahre unverdrossen die Säcke in die Mühle getragen hatte. Nun aber gingen die Kräfte des Esels zu Ende, so daß er zur Arbeit nicht mehr taugte. Da dachte der Herr daran, ihn wegzugehen. Aber der Esel merkte, daß sein Herr etwas Böses im Sinn hatte, lief fort und machte sich auf den Weg nach Bremen. Dort, so meinte er, könnte er ja Stadtmusikant werden.\n",
      "\n",
      "Als er schon eine Weile gegangen war, fand er einen Jagdhund am Wege liegen, der jämmerlich heulte. »Warum heulst du denn so, Packan?« fragte der Esel.\n",
      "\n",
      "»Ach«, sagte der Hund, »weil ich alt bin, jeden Tag schwächer werde und auch nicht mehr auf die Jagd kann, wollte mich mein Herr totschießen. Da hab ich Reißaus genommen. Aber womit soll ich nun mein Brot verdienen?«\n",
      "\n",
      "»Weißt du, was«, sprach der Esel, »ich gehe nach Bremen und werde dort Stadtmusikant. Komm mit mir und laß dich auch bei der Musik annehmen. Ich spiele die Laute, und du schlägst die Pauken.« Der Hund war einverstanden, und sie gingen mitsammen weiter.\n",
      "\n",
      "Es dauerte nicht lange, da sahen sie eine Katze am Wege sitzen, die machte ein Gesicht wie drei Tage Regenwetter. »Was ist denn dir in die Quere gekommen, alter Bartputzer?« fragte der Esel.\n",
      "\n",
      "»Wer kann da lustig sein, wenn\\'s einem an den Kragen geht«, antwortete die Katze. »Weil ich nun alt bin, meine Zähne stumpf werden und ich lieber hinter dem Ofen sitze und spinne, als nach Mäusen herumjage, hat mich meine Frau ersäufen wollen. Ich konnte mich zwar noch davonschleichen, aber nun ist guter Rat teuer. Wo soll ich jetzt hin?«\n",
      "\n",
      "»Geh mit uns nach Bremen! Du verstehst dich doch auf die Nachtmusik, da kannst du Stadtmusikant werden.« Die Katze hielt das für gut und ging mit.\n",
      "\n",
      "Als die drei so miteinander gingen, kamen sie an einem Hof vorbei. Da saß der Haushahn auf dem Tor und schrie aus Leibeskräften. »Du schreist einem durch Mark und Bein«, sprach der Esel, »was hast du vor?«\n",
      "\n",
      "»Die Hausfrau hat der Köchin befohlen, mir heute abend den Kopf abzuschlagen. Morgen, am Sonntag, haben sie Gäste, da wollen sie mich in der Suppe essen. Nun schrei ich aus vollem Hals, solang ich noch kann.«\n",
      "\n",
      "»Ei was« sagte der Esel, »zieh lieber mit uns fort, wir gehen nach Bremen, etwas Besseres als den Tod findest du überall. Du hast eine gute Stimme, und wenn wir mitsammen musizieren, wird es gar herrlich klingen.« Dem Hahn gefiel der Vorschlag, und sie gingen alle vier mitsammen fort.\n",
      "\n",
      "Sie konnten aber die Stadt Bremen an einem Tag nicht erreichen und kamen abends in einen Wald, wo sie übernachten wollten. Der Esel und der Hund legten sich unter einen großen Baum, die Katze kletterte auf einen Ast, und der Hahn flog bis in den Wipfel, wo es am sichersten für ihn war.\n",
      "\n",
      "Ehe er einschlief, sah er sich noch einmal nach allen vier Windrichtungen um. Da bemerkte er einen Lichtschein. Er sagte seinen Gefährten, daß in der Nähe ein Haus sein müsse, denn er sehe ein Licht. Der Esel antwortete: »So wollen wir uns aufmachen und noch hingehen, denn hier ist die Herberge schlecht.« Der Hund meinte, ein paar Knochen und etwas Fleisch daran täten ihm auch gut.\n",
      "\n",
      "Also machten sie sich auf den Weg nach der Gegend, wo das Licht war. Bald sahen sie es heller schimmern, und es wurde immer größer, bis sie vor ein hellerleuchtetes Räuberhaus kamen. Der Esel, als der größte, näherte sich dem Fenster und schaute hinein.\n",
      "\n",
      "»Was siehst du, Grauschimmel?« fragte der Hahn.\n",
      "\n",
      "»Was ich sehe?« antwortete der Esel. »Einen gedeckten Tisch mit schönem Essen und Trinken, und Räuber sitzen rundherum und lassen sich\\'s gutgehen!«\n",
      "\n",
      "»Das wäre etwas für uns«, sprach der Hahn.\n",
      "\n",
      "Da überlegten die Tiere, wie sie es anfangen könnten, die Räuber hinauszujagen. Endlich fanden sie ein Mittel. Der Esel stellte sich mit den Vorderfüßen auf das Fenster, der Hund sprang auf des Esels Rücken, die Katze kletterte auf den Hund, und zuletzt flog der Hahn hinauf und setzte sich der Katze auf den Kopf. Als das geschehen war, fingen sie auf ein Zeichen an, ihre Musik zu machen: der Esel schrie, der Hund bellte, die Katze miaute, und der Hahn krähte. Darauf stürzten sie durch das Fenster in die Stube hinein, daß die Scheiben klirrten.\n",
      "\n",
      "Die Räuber fuhren bei dem entsetzlichen Geschrei in die Höhe. Sie meinten, ein Gespenst käme herein, und flohen in größter Furcht in den Wald hinaus.\n",
      "\n",
      "Nun setzten sie die vier Gesellen an den Tisch, und jeder aß nach Herzenslust von den Speisen, die ihm am besten schmeckten.\n",
      "\n",
      "Als sie fertig waren, löschten sie das Licht aus, und jeder suchte sich eine Schlafstätte nach seinem Geschmack. Der Esel legte sich auf den Mist, der Hund hinter die Tür, die Katze auf den Herd bei der warmen Asche, und der Hahn flog auf das Dach hinauf. Und weil sie müde waren von ihrem langen Weg, schliefen sie bald ein.\n",
      "\n",
      "Als Mitternacht vorbei war und die Räuber von weitem sahen, daß kein Licht mehr im Haus brannte und alles ruhig schien, sprach der Hauptmann: »Wir hätten uns doch nicht sollen ins Bockshorn jagen lassen.« Er schickte einen Räuber zurück, um nachzusehen, ob noch jemand im Hause wäre.\n",
      "\n",
      "Der Räuber fand alles still. Er ging in die Küche und wollte ein Licht anzünden. Da sah er die feurigen Augen der Katze und meinte, es wären glühende Kohlen. Er hielt ein Schwefelhölzchen daran, daß es Feuer fangen sollte. Aber die Katze verstand keinen Spaß, sprang ihm ins Gesicht und kratzte ihn aus Leibeskräften. Da erschrak er gewaltig und wollte zur Hintertür hinauslaufen. Aber der Hund, der da lag, sprang auf und biß ihn ins Bein. Als der Räuber über den Hof am Misthaufen vorbeirannte, gab ihm der Esel noch einen tüchtigen Schlag mit dem Hinterfuß. Der Hahn aber, der von dem Lärm aus dem Schlaf geweckt worden war, rief vom Dache herunter: »Kikeriki!«\n",
      "\n",
      "Da lief der Räuber, was er konnte, zu seinem Hauptmann zurück und sprach: »Ach, in dem Haus sitzt eine greuliche Hexe, die hat mich angehaucht und mir mit ihren langen Fingern das Gesicht zerkratzt. An der Tür steht ein Mann mit einem Messer, der hat mich ins Bein gestochen. Auf dem Hof liegt ein schwarzes Ungetüm, das hat mit einem Holzprügel auf mich losgeschlagen. Und oben auf dem Dache, da sitzt der Richter, der rief: ›Bringt mir den Schelm her!‹ Da machte ich, daß ich fortkam.«\n",
      "\n",
      "Von nun an getrauten sich die Räuber nicht mehr in das Haus. Den vier Bremer Stadtmusikanten aber gefiel\\'s darin so gut, daß sie nicht wieder hinaus wollten.\n",
      "\n"
     ]
    }
   ],
   "source": [
    "# Optionales Ausgeben des eingelesenen Textes\n",
    "print(text)"
   ]
  },
  {
   "cell_type": "markdown",
   "id": "62cc1796-43c4-44c1-8ddb-375815a6dccc",
   "metadata": {},
   "source": [
    "## Alle Verben herausfiltern und auf die Grundform zurückführen"
   ]
  },
  {
   "cell_type": "code",
   "execution_count": 6,
   "id": "ebdf798f-a467-400e-be5d-c2421704dd35",
   "metadata": {},
   "outputs": [
    {
     "ename": "OSError",
     "evalue": "[E050] Can't find model 'de_core_news_lg'. It doesn't seem to be a Python package or a valid path to a data directory.",
     "output_type": "error",
     "traceback": [
      "\u001b[0;31m---------------------------------------------------------------------------\u001b[0m",
      "\u001b[0;31mOSError\u001b[0m                                   Traceback (most recent call last)",
      "Cell \u001b[0;32mIn [6], line 3\u001b[0m\n\u001b[1;32m      1\u001b[0m \u001b[38;5;66;03m# Laden eines Modells mit Spacy, das schon auf die Sprache und ihre Eigenschaft vortrainiert ist.\u001b[39;00m\n\u001b[1;32m      2\u001b[0m \u001b[38;5;66;03m# https://spacy.io/models\u001b[39;00m\n\u001b[0;32m----> 3\u001b[0m nlp \u001b[38;5;241m=\u001b[39m \u001b[43mspacy\u001b[49m\u001b[38;5;241;43m.\u001b[39;49m\u001b[43mload\u001b[49m\u001b[43m(\u001b[49m\u001b[38;5;124;43m\"\u001b[39;49m\u001b[38;5;124;43mde_core_news_lg\u001b[39;49m\u001b[38;5;124;43m\"\u001b[39;49m\u001b[43m)\u001b[49m\n\u001b[1;32m      5\u001b[0m \u001b[38;5;66;03m# Prozessieren des Textes\u001b[39;00m\n\u001b[1;32m      6\u001b[0m doc \u001b[38;5;241m=\u001b[39m nlp(text)\n",
      "File \u001b[0;32m~/.local/lib/python3.10/site-packages/spacy/__init__.py:54\u001b[0m, in \u001b[0;36mload\u001b[0;34m(name, vocab, disable, enable, exclude, config)\u001b[0m\n\u001b[1;32m     30\u001b[0m \u001b[38;5;28;01mdef\u001b[39;00m \u001b[38;5;21mload\u001b[39m(\n\u001b[1;32m     31\u001b[0m     name: Union[\u001b[38;5;28mstr\u001b[39m, Path],\n\u001b[1;32m     32\u001b[0m     \u001b[38;5;241m*\u001b[39m,\n\u001b[0;32m   (...)\u001b[0m\n\u001b[1;32m     37\u001b[0m     config: Union[Dict[\u001b[38;5;28mstr\u001b[39m, Any], Config] \u001b[38;5;241m=\u001b[39m util\u001b[38;5;241m.\u001b[39mSimpleFrozenDict(),\n\u001b[1;32m     38\u001b[0m ) \u001b[38;5;241m-\u001b[39m\u001b[38;5;241m>\u001b[39m Language:\n\u001b[1;32m     39\u001b[0m     \u001b[38;5;124;03m\"\"\"Load a spaCy model from an installed package or a local path.\u001b[39;00m\n\u001b[1;32m     40\u001b[0m \n\u001b[1;32m     41\u001b[0m \u001b[38;5;124;03m    name (str): Package name or model path.\u001b[39;00m\n\u001b[0;32m   (...)\u001b[0m\n\u001b[1;32m     52\u001b[0m \u001b[38;5;124;03m    RETURNS (Language): The loaded nlp object.\u001b[39;00m\n\u001b[1;32m     53\u001b[0m \u001b[38;5;124;03m    \"\"\"\u001b[39;00m\n\u001b[0;32m---> 54\u001b[0m     \u001b[38;5;28;01mreturn\u001b[39;00m \u001b[43mutil\u001b[49m\u001b[38;5;241;43m.\u001b[39;49m\u001b[43mload_model\u001b[49m\u001b[43m(\u001b[49m\n\u001b[1;32m     55\u001b[0m \u001b[43m        \u001b[49m\u001b[43mname\u001b[49m\u001b[43m,\u001b[49m\n\u001b[1;32m     56\u001b[0m \u001b[43m        \u001b[49m\u001b[43mvocab\u001b[49m\u001b[38;5;241;43m=\u001b[39;49m\u001b[43mvocab\u001b[49m\u001b[43m,\u001b[49m\n\u001b[1;32m     57\u001b[0m \u001b[43m        \u001b[49m\u001b[43mdisable\u001b[49m\u001b[38;5;241;43m=\u001b[39;49m\u001b[43mdisable\u001b[49m\u001b[43m,\u001b[49m\n\u001b[1;32m     58\u001b[0m \u001b[43m        \u001b[49m\u001b[43menable\u001b[49m\u001b[38;5;241;43m=\u001b[39;49m\u001b[43menable\u001b[49m\u001b[43m,\u001b[49m\n\u001b[1;32m     59\u001b[0m \u001b[43m        \u001b[49m\u001b[43mexclude\u001b[49m\u001b[38;5;241;43m=\u001b[39;49m\u001b[43mexclude\u001b[49m\u001b[43m,\u001b[49m\n\u001b[1;32m     60\u001b[0m \u001b[43m        \u001b[49m\u001b[43mconfig\u001b[49m\u001b[38;5;241;43m=\u001b[39;49m\u001b[43mconfig\u001b[49m\u001b[43m,\u001b[49m\n\u001b[1;32m     61\u001b[0m \u001b[43m    \u001b[49m\u001b[43m)\u001b[49m\n",
      "File \u001b[0;32m~/.local/lib/python3.10/site-packages/spacy/util.py:449\u001b[0m, in \u001b[0;36mload_model\u001b[0;34m(name, vocab, disable, enable, exclude, config)\u001b[0m\n\u001b[1;32m    447\u001b[0m \u001b[38;5;28;01mif\u001b[39;00m name \u001b[38;5;129;01min\u001b[39;00m OLD_MODEL_SHORTCUTS:\n\u001b[1;32m    448\u001b[0m     \u001b[38;5;28;01mraise\u001b[39;00m \u001b[38;5;167;01mIOError\u001b[39;00m(Errors\u001b[38;5;241m.\u001b[39mE941\u001b[38;5;241m.\u001b[39mformat(name\u001b[38;5;241m=\u001b[39mname, full\u001b[38;5;241m=\u001b[39mOLD_MODEL_SHORTCUTS[name]))  \u001b[38;5;66;03m# type: ignore[index]\u001b[39;00m\n\u001b[0;32m--> 449\u001b[0m \u001b[38;5;28;01mraise\u001b[39;00m \u001b[38;5;167;01mIOError\u001b[39;00m(Errors\u001b[38;5;241m.\u001b[39mE050\u001b[38;5;241m.\u001b[39mformat(name\u001b[38;5;241m=\u001b[39mname))\n",
      "\u001b[0;31mOSError\u001b[0m: [E050] Can't find model 'de_core_news_lg'. It doesn't seem to be a Python package or a valid path to a data directory."
     ]
    }
   ],
   "source": [
    "# Laden eines Modells mit Spacy, das schon auf die Sprache und ihre Eigenschaft vortrainiert ist.\n",
    "# https://spacy.io/models\n",
    "nlp = spacy.load(\"de_core_news_lg\")\n",
    "\n",
    "# Prozessieren des Textes\n",
    "doc = nlp(text)\n",
    "\n",
    "# Ausgabe der Verben mit einer for-Schleife\n",
    "#for token in doc:\n",
    "#    if token.pos_ == \"VERB\":\n",
    "#        print(token.lemma_)\n",
    "        \n",
    "# Besser und schneller mit einer list comprehension\n",
    "verbs = [token.lemma_ for token in doc if token.pos_ == \"VERB\"]\n",
    "\n",
    "print(verbs)"
   ]
  },
  {
   "cell_type": "markdown",
   "id": "ee9f7c66-1365-478b-a266-637a3246de3e",
   "metadata": {},
   "source": [
    "## Daten visualisieren\n",
    "\n",
    "Im Folgenden werden beispielhaft die Verben des Textes nach Häufigkeit größer oder kleiner dargestellt."
   ]
  },
  {
   "cell_type": "code",
   "execution_count": null,
   "id": "daffc8cd-76ff-40eb-95cc-1e8eccbed49d",
   "metadata": {},
   "outputs": [],
   "source": [
    "# Für WordCloud müssen die Worte mit Leerzeichen getrennt vorliegen.\n",
    "verbs_concat = \" \".join(v for v in verbs)"
   ]
  },
  {
   "cell_type": "code",
   "execution_count": null,
   "id": "143efc16-f5b8-402b-a548-f32752360f22",
   "metadata": {},
   "outputs": [],
   "source": [
    "# Optionales Ausgeben des Strings\n",
    "print(verbs_concat)"
   ]
  },
  {
   "cell_type": "markdown",
   "id": "83605440-3b80-4940-b9eb-4b41b61ca0f4",
   "metadata": {},
   "source": [
    "Nun wird die WordCloud mit einer sinnvollen Auswahl von Parametern generiert und durch matplotlib dargestellt."
   ]
  },
  {
   "cell_type": "code",
   "execution_count": null,
   "id": "37e9935e-9836-465d-a6f6-8d830f8a5af2",
   "metadata": {},
   "outputs": [],
   "source": [
    "wordcloud = WordCloud(\n",
    "    max_font_size=50, \n",
    "    background_color=\"white\",\n",
    "    max_words=10,\n",
    "    relative_scaling=.5,\n",
    "    include_numbers=True,\n",
    "    scale=1\n",
    ").generate(verbs_concat)\n",
    "\n",
    "# Display the generated image:\n",
    "plt.imshow(wordcloud, interpolation='bilinear')\n",
    "plt.axis(\"off\")\n",
    "plt.show()"
   ]
  },
  {
   "cell_type": "markdown",
   "id": "26fff15a-4288-43f5-8cb8-5a18aa40e1f9",
   "metadata": {},
   "source": [
    "## Maskieren\n",
    "\n",
    "Der Reiz von WordCloud liegt darin, eine WordCloud in ein beliebiges Bild hineinzurendern. Dafür müssen Bereiche, die nicht gefüllt werden sollen, RGB-weiß (255,255,255) sein.\n",
    "\n",
    "Vgl. dazu auch die Tutorials, auf denen dieses Beispiel basiert:\n",
    "\n",
    "- https://www.datacamp.com/tutorial/wordcloud-python\n",
    "- https://www.python-lernen.de/wordcloud-erstellen-python.htm"
   ]
  },
  {
   "cell_type": "code",
   "execution_count": null,
   "id": "988de82b-7329-4203-bade-8377ddab7e7f",
   "metadata": {},
   "outputs": [],
   "source": [
    "mask = np.array(Image.open(\"img/bremer-stadtmusikanten.png\"))\n",
    "\n",
    "wordcloud = WordCloud(\n",
    "    max_font_size=50, \n",
    "    background_color=\"white\",\n",
    "    #max_words=100,\n",
    "    relative_scaling=.2,\n",
    "    scale=1,\n",
    "    mask = mask,\n",
    "    contour_width=1, \n",
    "    contour_color='grey'\n",
    ").generate(verbs_concat)\n",
    "\n",
    "# Bild anzeigen\n",
    "plt.figure(figsize=[20,10])\n",
    "plt.imshow(wordcloud, interpolation='bilinear')\n",
    "plt.axis(\"off\")\n",
    "plt.show()"
   ]
  },
  {
   "cell_type": "code",
   "execution_count": null,
   "id": "92de383f-f567-4253-9e68-bd703daac8ec",
   "metadata": {},
   "outputs": [],
   "source": [
    "# Speichern des Bildes\n",
    "wordcloud.to_file(\"img/visualisierung.png\")"
   ]
  },
  {
   "cell_type": "markdown",
   "id": "a2a2e2ab-88d6-4f27-85e2-1237217eb436",
   "metadata": {},
   "source": [
    "## Mediennachweis\n",
    "\n",
    "Das Bild der Bremerstadtmusikanten stammt von [freesvg.org](https://freesvg.org/1487612321) und steht in der Public Domain."
   ]
  }
 ],
 "metadata": {
  "kernelspec": {
   "display_name": "Python 3 (ipykernel)",
   "language": "python",
   "name": "python3"
  },
  "language_info": {
   "codemirror_mode": {
    "name": "ipython",
    "version": 3
   },
   "file_extension": ".py",
   "mimetype": "text/x-python",
   "name": "python",
   "nbconvert_exporter": "python",
   "pygments_lexer": "ipython3",
   "version": "3.10.10"
  }
 },
 "nbformat": 4,
 "nbformat_minor": 5
}
