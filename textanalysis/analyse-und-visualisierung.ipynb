{
  "cells": [
    {
      "cell_type": "markdown",
      "id": "ea0f2139-55f9-4510-9900-296812bce1b0",
      "metadata": {
        "id": "ea0f2139-55f9-4510-9900-296812bce1b0"
      },
      "source": [
        "# Wortartanalyse und -visualisierung\n",
        "\n",
        "Das folgende Beispiel zeigt, wie Sie mit Python einen zuvor aufbereiteten Text auf bestimmte Wortarten und Vorkommnisse analysieren und visualisieren können.\n"
      ]
    },
    {
      "cell_type": "code",
      "source": [
        "from google.colab import drive\n",
        "drive.mount('/content/drive')"
      ],
      "metadata": {
        "id": "zgUZgLGZLpLx",
        "outputId": "2492b7f9-be09-44af-b618-52ca2bc22387",
        "colab": {
          "base_uri": "https://localhost:8080/"
        }
      },
      "id": "zgUZgLGZLpLx",
      "execution_count": 6,
      "outputs": [
        {
          "output_type": "stream",
          "name": "stdout",
          "text": [
            "Drive already mounted at /content/drive; to attempt to forcibly remount, call drive.mount(\"/content/drive\", force_remount=True).\n"
          ]
        }
      ]
    },
    {
      "cell_type": "code",
      "source": [
        "%cd /content/drive/MyDrive/Colab\\ Notebooks/textanalyse-master"
      ],
      "metadata": {
        "id": "3k33N-U5LxBH",
        "outputId": "90ea6a3e-956c-4a9d-b92b-fa771823cb16",
        "colab": {
          "base_uri": "https://localhost:8080/"
        }
      },
      "id": "3k33N-U5LxBH",
      "execution_count": 7,
      "outputs": [
        {
          "output_type": "stream",
          "name": "stdout",
          "text": [
            "/content/drive/MyDrive/Colab Notebooks/textanalyse-master\n"
          ]
        }
      ]
    },
    {
      "cell_type": "code",
      "execution_count": 8,
      "id": "4a4c9f2c-911f-4fd9-b3b1-ba629884b049",
      "metadata": {
        "id": "4a4c9f2c-911f-4fd9-b3b1-ba629884b049"
      },
      "outputs": [],
      "source": [
        "# Python-Paket zur Textanalyse, https://spacy.io/\n",
        "import spacy\n",
        "# Systembibliothek für die Kommunikation mit dem Betriebssystem\n",
        "import os\n",
        "# Paket zur Arbeit mit Arrays\n",
        "import numpy as np\n",
        "# Paket zur Bildverarbeitung und -generierung\n",
        "from PIL import Image\n",
        "# Paket zur Generierung von Wordclouds, https://amueller.github.io/word_cloud/index.html#\n",
        "from wordcloud import WordCloud, STOPWORDS, ImageColorGenerator\n",
        "\n",
        "# Einfaches Paket für Visualiserungen, hier für die Darstellung von generierten Bildern verwendet.\n",
        "import matplotlib.pyplot as plt\n",
        "%matplotlib inline"
      ]
    },
    {
      "cell_type": "code",
      "execution_count": 9,
      "id": "12030485-fc24-48a1-973e-d2bee17dcbc0",
      "metadata": {
        "id": "12030485-fc24-48a1-973e-d2bee17dcbc0"
      },
      "outputs": [],
      "source": [
        "read_folder = \"data\"\n",
        "file_name = \"die-bremer-stadtmusikanten.md\"\n",
        "text = \"\"\n",
        "\n",
        "# Vorbereitete Textdatei öffnen und einlesen\n",
        "with open(os.path.join(read_folder, file_name)) as file:\n",
        "    text = file.read()"
      ]
    },
    {
      "cell_type": "code",
      "execution_count": 10,
      "id": "3e460c66-8256-4a28-a09c-157f90a95af8",
      "metadata": {
        "id": "3e460c66-8256-4a28-a09c-157f90a95af8",
        "outputId": "54d3b019-96c6-412c-deed-10df6327f940",
        "colab": {
          "base_uri": "https://localhost:8080/"
        }
      },
      "outputs": [
        {
          "output_type": "stream",
          "name": "stdout",
          "text": [
            "# Die Bremer Stadtmusikanten\n",
            "\n",
            "Es war einmal ein Mann, der hatte einen Esel, welcher schon lange Jahre unverdrossen die Säcke in die Mühle getragen hatte. Nun aber gingen die Kräfte des Esels zu Ende, so daß er zur Arbeit nicht mehr taugte. Da dachte der Herr daran, ihn wegzugehen. Aber der Esel merkte, daß sein Herr etwas Böses im Sinn hatte, lief fort und machte sich auf den Weg nach Bremen. Dort, so meinte er, könnte er ja Stadtmusikant werden.\n",
            "\n",
            "Als er schon eine Weile gegangen war, fand er einen Jagdhund am Wege liegen, der jämmerlich heulte. »Warum heulst du denn so, Packan?« fragte der Esel.\n",
            "\n",
            "»Ach«, sagte der Hund, »weil ich alt bin, jeden Tag schwächer werde und auch nicht mehr auf die Jagd kann, wollte mich mein Herr totschießen. Da hab ich Reißaus genommen. Aber womit soll ich nun mein Brot verdienen?«\n",
            "\n",
            "»Weißt du, was«, sprach der Esel, »ich gehe nach Bremen und werde dort Stadtmusikant. Komm mit mir und laß dich auch bei der Musik annehmen. Ich spiele die Laute, und du schlägst die Pauken.« Der Hund war einverstanden, und sie gingen mitsammen weiter.\n",
            "\n",
            "Es dauerte nicht lange, da sahen sie eine Katze am Wege sitzen, die machte ein Gesicht wie drei Tage Regenwetter. »Was ist denn dir in die Quere gekommen, alter Bartputzer?« fragte der Esel.\n",
            "\n",
            "»Wer kann da lustig sein, wenn\\'s einem an den Kragen geht«, antwortete die Katze. »Weil ich nun alt bin, meine Zähne stumpf werden und ich lieber hinter dem Ofen sitze und spinne, als nach Mäusen herumjage, hat mich meine Frau ersäufen wollen. Ich konnte mich zwar noch davonschleichen, aber nun ist guter Rat teuer. Wo soll ich jetzt hin?«\n",
            "\n",
            "»Geh mit uns nach Bremen! Du verstehst dich doch auf die Nachtmusik, da kannst du Stadtmusikant werden.« Die Katze hielt das für gut und ging mit.\n",
            "\n",
            "Als die drei so miteinander gingen, kamen sie an einem Hof vorbei. Da saß der Haushahn auf dem Tor und schrie aus Leibeskräften. »Du schreist einem durch Mark und Bein«, sprach der Esel, »was hast du vor?«\n",
            "\n",
            "»Die Hausfrau hat der Köchin befohlen, mir heute abend den Kopf abzuschlagen. Morgen, am Sonntag, haben sie Gäste, da wollen sie mich in der Suppe essen. Nun schrei ich aus vollem Hals, solang ich noch kann.«\n",
            "\n",
            "»Ei was« sagte der Esel, »zieh lieber mit uns fort, wir gehen nach Bremen, etwas Besseres als den Tod findest du überall. Du hast eine gute Stimme, und wenn wir mitsammen musizieren, wird es gar herrlich klingen.« Dem Hahn gefiel der Vorschlag, und sie gingen alle vier mitsammen fort.\n",
            "\n",
            "Sie konnten aber die Stadt Bremen an einem Tag nicht erreichen und kamen abends in einen Wald, wo sie übernachten wollten. Der Esel und der Hund legten sich unter einen großen Baum, die Katze kletterte auf einen Ast, und der Hahn flog bis in den Wipfel, wo es am sichersten für ihn war.\n",
            "\n",
            "Ehe er einschlief, sah er sich noch einmal nach allen vier Windrichtungen um. Da bemerkte er einen Lichtschein. Er sagte seinen Gefährten, daß in der Nähe ein Haus sein müsse, denn er sehe ein Licht. Der Esel antwortete: »So wollen wir uns aufmachen und noch hingehen, denn hier ist die Herberge schlecht.« Der Hund meinte, ein paar Knochen und etwas Fleisch daran täten ihm auch gut.\n",
            "\n",
            "Also machten sie sich auf den Weg nach der Gegend, wo das Licht war. Bald sahen sie es heller schimmern, und es wurde immer größer, bis sie vor ein hellerleuchtetes Räuberhaus kamen. Der Esel, als der größte, näherte sich dem Fenster und schaute hinein.\n",
            "\n",
            "»Was siehst du, Grauschimmel?« fragte der Hahn.\n",
            "\n",
            "»Was ich sehe?« antwortete der Esel. »Einen gedeckten Tisch mit schönem Essen und Trinken, und Räuber sitzen rundherum und lassen sich\\'s gutgehen!«\n",
            "\n",
            "»Das wäre etwas für uns«, sprach der Hahn.\n",
            "\n",
            "Da überlegten die Tiere, wie sie es anfangen könnten, die Räuber hinauszujagen. Endlich fanden sie ein Mittel. Der Esel stellte sich mit den Vorderfüßen auf das Fenster, der Hund sprang auf des Esels Rücken, die Katze kletterte auf den Hund, und zuletzt flog der Hahn hinauf und setzte sich der Katze auf den Kopf. Als das geschehen war, fingen sie auf ein Zeichen an, ihre Musik zu machen: der Esel schrie, der Hund bellte, die Katze miaute, und der Hahn krähte. Darauf stürzten sie durch das Fenster in die Stube hinein, daß die Scheiben klirrten.\n",
            "\n",
            "Die Räuber fuhren bei dem entsetzlichen Geschrei in die Höhe. Sie meinten, ein Gespenst käme herein, und flohen in größter Furcht in den Wald hinaus.\n",
            "\n",
            "Nun setzten sie die vier Gesellen an den Tisch, und jeder aß nach Herzenslust von den Speisen, die ihm am besten schmeckten.\n",
            "\n",
            "Als sie fertig waren, löschten sie das Licht aus, und jeder suchte sich eine Schlafstätte nach seinem Geschmack. Der Esel legte sich auf den Mist, der Hund hinter die Tür, die Katze auf den Herd bei der warmen Asche, und der Hahn flog auf das Dach hinauf. Und weil sie müde waren von ihrem langen Weg, schliefen sie bald ein.\n",
            "\n",
            "Als Mitternacht vorbei war und die Räuber von weitem sahen, daß kein Licht mehr im Haus brannte und alles ruhig schien, sprach der Hauptmann: »Wir hätten uns doch nicht sollen ins Bockshorn jagen lassen.« Er schickte einen Räuber zurück, um nachzusehen, ob noch jemand im Hause wäre.\n",
            "\n",
            "Der Räuber fand alles still. Er ging in die Küche und wollte ein Licht anzünden. Da sah er die feurigen Augen der Katze und meinte, es wären glühende Kohlen. Er hielt ein Schwefelhölzchen daran, daß es Feuer fangen sollte. Aber die Katze verstand keinen Spaß, sprang ihm ins Gesicht und kratzte ihn aus Leibeskräften. Da erschrak er gewaltig und wollte zur Hintertür hinauslaufen. Aber der Hund, der da lag, sprang auf und biß ihn ins Bein. Als der Räuber über den Hof am Misthaufen vorbeirannte, gab ihm der Esel noch einen tüchtigen Schlag mit dem Hinterfuß. Der Hahn aber, der von dem Lärm aus dem Schlaf geweckt worden war, rief vom Dache herunter: »Kikeriki!«\n",
            "\n",
            "Da lief der Räuber, was er konnte, zu seinem Hauptmann zurück und sprach: »Ach, in dem Haus sitzt eine greuliche Hexe, die hat mich angehaucht und mir mit ihren langen Fingern das Gesicht zerkratzt. An der Tür steht ein Mann mit einem Messer, der hat mich ins Bein gestochen. Auf dem Hof liegt ein schwarzes Ungetüm, das hat mit einem Holzprügel auf mich losgeschlagen. Und oben auf dem Dache, da sitzt der Richter, der rief: ›Bringt mir den Schelm her!‹ Da machte ich, daß ich fortkam.«\n",
            "\n",
            "Von nun an getrauten sich die Räuber nicht mehr in das Haus. Den vier Bremer Stadtmusikanten aber gefiel\\'s darin so gut, daß sie nicht wieder hinaus wollten.\n",
            "\n"
          ]
        }
      ],
      "source": [
        "# Optionales Ausgeben des eingelesenen Textes\n",
        "print(text)"
      ]
    },
    {
      "cell_type": "markdown",
      "id": "62cc1796-43c4-44c1-8ddb-375815a6dccc",
      "metadata": {
        "id": "62cc1796-43c4-44c1-8ddb-375815a6dccc"
      },
      "source": [
        "## Alle Verben herausfiltern und auf die Grundform zurückführen"
      ]
    },
    {
      "cell_type": "code",
      "execution_count": 11,
      "id": "ebdf798f-a467-400e-be5d-c2421704dd35",
      "metadata": {
        "id": "ebdf798f-a467-400e-be5d-c2421704dd35",
        "outputId": "22f7c40d-8818-4b1d-a746-51c5d769aa10",
        "colab": {
          "base_uri": "https://localhost:8080/",
          "height": 406
        }
      },
      "outputs": [
        {
          "output_type": "error",
          "ename": "OSError",
          "evalue": "ignored",
          "traceback": [
            "\u001b[0;31m---------------------------------------------------------------------------\u001b[0m",
            "\u001b[0;31mOSError\u001b[0m                                   Traceback (most recent call last)",
            "\u001b[0;32m<ipython-input-11-bee77283ad75>\u001b[0m in \u001b[0;36m<cell line: 3>\u001b[0;34m()\u001b[0m\n\u001b[1;32m      1\u001b[0m \u001b[0;31m# Laden eines Modells mit Spacy, das schon auf die Sprache und ihre Eigenschaft vortrainiert ist.\u001b[0m\u001b[0;34m\u001b[0m\u001b[0;34m\u001b[0m\u001b[0m\n\u001b[1;32m      2\u001b[0m \u001b[0;31m# https://spacy.io/models\u001b[0m\u001b[0;34m\u001b[0m\u001b[0;34m\u001b[0m\u001b[0m\n\u001b[0;32m----> 3\u001b[0;31m \u001b[0mnlp\u001b[0m \u001b[0;34m=\u001b[0m \u001b[0mspacy\u001b[0m\u001b[0;34m.\u001b[0m\u001b[0mload\u001b[0m\u001b[0;34m(\u001b[0m\u001b[0;34m\"de_core_news_lg\"\u001b[0m\u001b[0;34m)\u001b[0m\u001b[0;34m\u001b[0m\u001b[0;34m\u001b[0m\u001b[0m\n\u001b[0m\u001b[1;32m      4\u001b[0m \u001b[0;34m\u001b[0m\u001b[0m\n\u001b[1;32m      5\u001b[0m \u001b[0;31m# Prozessieren des Textes\u001b[0m\u001b[0;34m\u001b[0m\u001b[0;34m\u001b[0m\u001b[0m\n",
            "\u001b[0;32m/usr/local/lib/python3.10/dist-packages/spacy/__init__.py\u001b[0m in \u001b[0;36mload\u001b[0;34m(name, vocab, disable, enable, exclude, config)\u001b[0m\n\u001b[1;32m     49\u001b[0m     \u001b[0mRETURNS\u001b[0m \u001b[0;34m(\u001b[0m\u001b[0mLanguage\u001b[0m\u001b[0;34m)\u001b[0m\u001b[0;34m:\u001b[0m \u001b[0mThe\u001b[0m \u001b[0mloaded\u001b[0m \u001b[0mnlp\u001b[0m \u001b[0mobject\u001b[0m\u001b[0;34m.\u001b[0m\u001b[0;34m\u001b[0m\u001b[0;34m\u001b[0m\u001b[0m\n\u001b[1;32m     50\u001b[0m     \"\"\"\n\u001b[0;32m---> 51\u001b[0;31m     return util.load_model(\n\u001b[0m\u001b[1;32m     52\u001b[0m         \u001b[0mname\u001b[0m\u001b[0;34m,\u001b[0m\u001b[0;34m\u001b[0m\u001b[0;34m\u001b[0m\u001b[0m\n\u001b[1;32m     53\u001b[0m         \u001b[0mvocab\u001b[0m\u001b[0;34m=\u001b[0m\u001b[0mvocab\u001b[0m\u001b[0;34m,\u001b[0m\u001b[0;34m\u001b[0m\u001b[0;34m\u001b[0m\u001b[0m\n",
            "\u001b[0;32m/usr/local/lib/python3.10/dist-packages/spacy/util.py\u001b[0m in \u001b[0;36mload_model\u001b[0;34m(name, vocab, disable, enable, exclude, config)\u001b[0m\n\u001b[1;32m    470\u001b[0m     \u001b[0;32mif\u001b[0m \u001b[0mname\u001b[0m \u001b[0;32min\u001b[0m \u001b[0mOLD_MODEL_SHORTCUTS\u001b[0m\u001b[0;34m:\u001b[0m\u001b[0;34m\u001b[0m\u001b[0;34m\u001b[0m\u001b[0m\n\u001b[1;32m    471\u001b[0m         \u001b[0;32mraise\u001b[0m \u001b[0mIOError\u001b[0m\u001b[0;34m(\u001b[0m\u001b[0mErrors\u001b[0m\u001b[0;34m.\u001b[0m\u001b[0mE941\u001b[0m\u001b[0;34m.\u001b[0m\u001b[0mformat\u001b[0m\u001b[0;34m(\u001b[0m\u001b[0mname\u001b[0m\u001b[0;34m=\u001b[0m\u001b[0mname\u001b[0m\u001b[0;34m,\u001b[0m \u001b[0mfull\u001b[0m\u001b[0;34m=\u001b[0m\u001b[0mOLD_MODEL_SHORTCUTS\u001b[0m\u001b[0;34m[\u001b[0m\u001b[0mname\u001b[0m\u001b[0;34m]\u001b[0m\u001b[0;34m)\u001b[0m\u001b[0;34m)\u001b[0m  \u001b[0;31m# type: ignore[index]\u001b[0m\u001b[0;34m\u001b[0m\u001b[0;34m\u001b[0m\u001b[0m\n\u001b[0;32m--> 472\u001b[0;31m     \u001b[0;32mraise\u001b[0m \u001b[0mIOError\u001b[0m\u001b[0;34m(\u001b[0m\u001b[0mErrors\u001b[0m\u001b[0;34m.\u001b[0m\u001b[0mE050\u001b[0m\u001b[0;34m.\u001b[0m\u001b[0mformat\u001b[0m\u001b[0;34m(\u001b[0m\u001b[0mname\u001b[0m\u001b[0;34m=\u001b[0m\u001b[0mname\u001b[0m\u001b[0;34m)\u001b[0m\u001b[0;34m)\u001b[0m\u001b[0;34m\u001b[0m\u001b[0;34m\u001b[0m\u001b[0m\n\u001b[0m\u001b[1;32m    473\u001b[0m \u001b[0;34m\u001b[0m\u001b[0m\n\u001b[1;32m    474\u001b[0m \u001b[0;34m\u001b[0m\u001b[0m\n",
            "\u001b[0;31mOSError\u001b[0m: [E050] Can't find model 'de_core_news_lg'. It doesn't seem to be a Python package or a valid path to a data directory."
          ]
        }
      ],
      "source": [
        "# Laden eines Modells mit Spacy, das schon auf die Sprache und ihre Eigenschaft vortrainiert ist.\n",
        "# https://spacy.io/models\n",
        "nlp = spacy.load(\"de_core_news_lg\")\n",
        "\n",
        "# Prozessieren des Textes\n",
        "doc = nlp(text)\n",
        "\n",
        "# Ausgabe der Verben mit einer for-Schleife\n",
        "#for token in doc:\n",
        "#    if token.pos_ == \"VERB\":\n",
        "#        print(token.lemma_)\n",
        "\n",
        "# Besser und schneller mit einer list comprehension\n",
        "verbs = [token.lemma_ for token in doc if token.pos_ == \"VERB\"]\n",
        "\n",
        "print(verbs)"
      ]
    },
    {
      "cell_type": "markdown",
      "id": "ee9f7c66-1365-478b-a266-637a3246de3e",
      "metadata": {
        "id": "ee9f7c66-1365-478b-a266-637a3246de3e"
      },
      "source": [
        "## Daten visualisieren\n",
        "\n",
        "Im Folgenden werden beispielhaft die Verben des Textes nach Häufigkeit größer oder kleiner dargestellt."
      ]
    },
    {
      "cell_type": "code",
      "execution_count": null,
      "id": "daffc8cd-76ff-40eb-95cc-1e8eccbed49d",
      "metadata": {
        "id": "daffc8cd-76ff-40eb-95cc-1e8eccbed49d"
      },
      "outputs": [],
      "source": [
        "# Für WordCloud müssen die Worte mit Leerzeichen getrennt vorliegen.\n",
        "verbs_concat = \" \".join(v for v in verbs)"
      ]
    },
    {
      "cell_type": "code",
      "execution_count": null,
      "id": "143efc16-f5b8-402b-a548-f32752360f22",
      "metadata": {
        "id": "143efc16-f5b8-402b-a548-f32752360f22"
      },
      "outputs": [],
      "source": [
        "# Optionales Ausgeben des Strings\n",
        "print(verbs_concat)"
      ]
    },
    {
      "cell_type": "markdown",
      "id": "83605440-3b80-4940-b9eb-4b41b61ca0f4",
      "metadata": {
        "id": "83605440-3b80-4940-b9eb-4b41b61ca0f4"
      },
      "source": [
        "Nun wird die WordCloud mit einer sinnvollen Auswahl von Parametern generiert und durch matplotlib dargestellt."
      ]
    },
    {
      "cell_type": "code",
      "execution_count": null,
      "id": "37e9935e-9836-465d-a6f6-8d830f8a5af2",
      "metadata": {
        "id": "37e9935e-9836-465d-a6f6-8d830f8a5af2"
      },
      "outputs": [],
      "source": [
        "wordcloud = WordCloud(\n",
        "    max_font_size=50,\n",
        "    background_color=\"white\",\n",
        "    max_words=10,\n",
        "    relative_scaling=.5,\n",
        "    include_numbers=True,\n",
        "    scale=1\n",
        ").generate(verbs_concat)\n",
        "\n",
        "# Display the generated image:\n",
        "plt.imshow(wordcloud, interpolation='bilinear')\n",
        "plt.axis(\"off\")\n",
        "plt.show()"
      ]
    },
    {
      "cell_type": "markdown",
      "id": "26fff15a-4288-43f5-8cb8-5a18aa40e1f9",
      "metadata": {
        "id": "26fff15a-4288-43f5-8cb8-5a18aa40e1f9"
      },
      "source": [
        "## Maskieren\n",
        "\n",
        "Der Reiz von WordCloud liegt darin, eine WordCloud in ein beliebiges Bild hineinzurendern. Dafür müssen Bereiche, die nicht gefüllt werden sollen, RGB-weiß (255,255,255) sein.\n",
        "\n",
        "Vgl. dazu auch die Tutorials, auf denen dieses Beispiel basiert:\n",
        "\n",
        "- https://www.datacamp.com/tutorial/wordcloud-python\n",
        "- https://www.python-lernen.de/wordcloud-erstellen-python.htm"
      ]
    },
    {
      "cell_type": "code",
      "execution_count": null,
      "id": "988de82b-7329-4203-bade-8377ddab7e7f",
      "metadata": {
        "id": "988de82b-7329-4203-bade-8377ddab7e7f"
      },
      "outputs": [],
      "source": [
        "mask = np.array(Image.open(\"img/bremer-stadtmusikanten.png\"))\n",
        "\n",
        "wordcloud = WordCloud(\n",
        "    max_font_size=50,\n",
        "    background_color=\"white\",\n",
        "    #max_words=100,\n",
        "    relative_scaling=.2,\n",
        "    scale=1,\n",
        "    mask = mask,\n",
        "    contour_width=1,\n",
        "    contour_color='grey'\n",
        ").generate(verbs_concat)\n",
        "\n",
        "# Bild anzeigen\n",
        "plt.figure(figsize=[20,10])\n",
        "plt.imshow(wordcloud, interpolation='bilinear')\n",
        "plt.axis(\"off\")\n",
        "plt.show()"
      ]
    },
    {
      "cell_type": "code",
      "execution_count": null,
      "id": "92de383f-f567-4253-9e68-bd703daac8ec",
      "metadata": {
        "id": "92de383f-f567-4253-9e68-bd703daac8ec"
      },
      "outputs": [],
      "source": [
        "# Speichern des Bildes\n",
        "wordcloud.to_file(\"img/visualisierung.png\")"
      ]
    },
    {
      "cell_type": "markdown",
      "id": "a2a2e2ab-88d6-4f27-85e2-1237217eb436",
      "metadata": {
        "id": "a2a2e2ab-88d6-4f27-85e2-1237217eb436"
      },
      "source": [
        "## Mediennachweis\n",
        "\n",
        "Das Bild der Bremerstadtmusikanten stammt von [freesvg.org](https://freesvg.org/1487612321) und steht in der Public Domain."
      ]
    }
  ],
  "metadata": {
    "kernelspec": {
      "display_name": "Python 3 (ipykernel)",
      "language": "python",
      "name": "python3"
    },
    "language_info": {
      "codemirror_mode": {
        "name": "ipython",
        "version": 3
      },
      "file_extension": ".py",
      "mimetype": "text/x-python",
      "name": "python",
      "nbconvert_exporter": "python",
      "pygments_lexer": "ipython3",
      "version": "3.10.10"
    },
    "colab": {
      "provenance": []
    }
  },
  "nbformat": 4,
  "nbformat_minor": 5
}